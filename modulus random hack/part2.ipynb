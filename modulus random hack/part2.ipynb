{
 "cells": [
  {
   "cell_type": "code",
   "execution_count": 9,
   "metadata": {},
   "outputs": [
    {
     "ename": "SyntaxError",
     "evalue": "'return' outside function (<ipython-input-9-8053849895f4>, line 11)",
     "output_type": "error",
     "traceback": [
      "\u001b[0;36m  File \u001b[0;32m\"<ipython-input-9-8053849895f4>\"\u001b[0;36m, line \u001b[0;32m11\u001b[0m\n\u001b[0;31m    return results\u001b[0m\n\u001b[0m                  ^\u001b[0m\n\u001b[0;31mSyntaxError\u001b[0m\u001b[0;31m:\u001b[0m 'return' outside function\n"
     ]
    }
   ],
   "source": [
    "import csv\n",
    "fields=['name','gender','age','grade']\n",
    "rows=[['karimi','female',21,'pass'],['kira','male',28,'pass'],\n",
    "     ['camel','female',28,'pass']]\n",
    "filename='results.csv'\n",
    "with open(filename,'w') as csvfile:\n",
    "    csvwriter=csv.writer(csvfile)\n",
    "    csvwriter.writerow(fields)\n",
    "    csvwriter.writerows(rows)\n",
    "    \n",
    "return results\n",
    "    "
   ]
  },
  {
   "cell_type": "code",
   "execution_count": 13,
   "metadata": {},
   "outputs": [
    {
     "name": "stdout",
     "output_type": "stream",
     "text": [
      "['Title', 'Location', 'Describition', 'Price']\n",
      "['\\n                Lavington, Nairobi\\n            ', '\\n                Lavington, Nairobi\\n            ', '\\n            A 14 floor development comprising spacious studios, 2 and 3 bed apartments. \\n \\n Facilities: 2 high-speed lifts (from Germany) per...\\n        ', '\\n                    KSh 9 500 000\\n                ']\n",
      "['\\n                PW92+6WG Umoja, Umoja, Nairobi\\n            ', '\\n                PW92+6WG Umoja, Umoja, Nairobi\\n            ', '\\n            On the busy Manyanja Road, Bee Centre area hosts an amazing Barber shop that is great for business. Its features include; generat...\\n        ', '\\n                    KSh 2 900 000\\n                ']\n",
      "['Lavington, Nairobi', 'Lavington, Nairobi', '\\n            3 bedroom corner plot townhouse in Lavington West Estate, with a garden, garage for 3 cars, DSQ servant quarter self contained. Master ensuite, 1 study room. Size 0.\\n        ', 'From']\n",
      "['\\n                OTHAYA ROAD, Kileleshwa, Nairobi\\n            ', '\\n                OTHAYA ROAD, Kileleshwa, Nairobi\\n            ', '\\n\\n            Under construction, 3 bedroom spacious Apartments. \\n All en suite, Open Plan Kitchen, \\n Spacious Washing Area\\n Good Fittings and ...\\n        ', '\\n                    KSh 21 000 000\\n                ']\n",
      "['\\n                KE Kileleshwa, Kileleshwa, Nairobi\\n            ', '\\n                KE Kileleshwa, Kileleshwa, Nairobi\\n            ', '\\n\\n            The project is located along Othaya Road, Kileleshwa. This location is 8-minute-drive from Lavington Shopping Centre, a walking d...\\n        ', '\\n                    KSh 9 900 000\\n                ']\n",
      "['\\n', '\\n', '\\n\\n            FEATURES AND AMENITIES\\n * Swimming Pool with separate changing rooms\\n * Gym\\n * 24 hours security service\\n * Two parking for every...\\n        ', '\\n                    KSh 19 000 000\\n                ']\n",
      "['Lavington, Nairobi', 'Lavington, Nairobi', '\\n            Experience living in an elegantly modern villa, thoughtfully designed to be fully compatible with your every need, the compound consists of just 12 classy four-bedroom, offering a choice...\\n        ', 'From']\n",
      "['\\n                Lavington, Nairobi\\n            ', '\\n                Lavington, Nairobi\\n            ', '\\n            A 14 floor development comprising spacious studios, 2 and 3 bed apartments. \\n \\n Facilities: 2 high-speed lifts (from Germany) per...\\n        ', '\\n                    KSh 4 200 000\\n                ']\n",
      "['\\n                Muthaiga, Nairobi\\n            ', '\\n                Muthaiga, Nairobi\\n            ', '\\n            Ideal for development purposes\\n With an old House\\n        ', '\\n                    KSh 750 000 000\\n                ']\n",
      "['\\n                Ngong Rd Nairobi, Ngong Rd, Nairobi\\n            ', '\\n                Ngong Rd Nairobi, Ngong Rd, Nairobi\\n            ', '\\n            This prime piece of land is finally up for sale\\n Located in the highly sort out area of Ngong Road and touches...\\n        ', '\\n                    KSh 320 000 000\\n                ']\n",
      "['Lavington, Nairobi', 'Lavington, Nairobi', '\\n            Experience living in an elegantly modern villa, thoughtfully designed to be fully compatible with your every need, the compound consists of just 12 classy four-bedroom, offering a choice...\\n        ', 'From']\n",
      "['\\n                Mwihoko, Mwihoko, Nairobi\\n            ', '\\n                Mwihoko, Mwihoko, Nairobi\\n            ', '\\n\\n            ~Located mwihoko , githurai, nairobi. \\n ~ Plot size ? freehold title\\n Spacious beautiful house\\n        ', '\\n                    KSh 13 000 000\\n                ']\n",
      "['\\n                Lower Kabete Rd Nairobi, Lower Kabete, Nairobi\\n            ', '\\n                Lower Kabete Rd Nairobi, Lower Kabete, Nairobi\\n            ', '\\n\\n            Five bedroom all ensuite located in a serene environment in Lower kabete\\n it has the following features\\n Sits in a half of...\\n        ', '\\n                    KSh 230 000 000\\n                ']\n",
      "['\\n                Kilimani, Nairobi, Kilimani, Nairobi\\n            ', '\\n                Kilimani, Nairobi, Kilimani, Nairobi\\n            ', '\\n            Serene 3 bedrooms apartments located along Dennis Pritt Road. It’s positioned in a quiet and friendly neighborhood which is a 10-...\\n        ', '\\n                    KSh 18 000 000\\n                ']\n",
      "['\\n                Kilimani, Nairobi\\n            ', '\\n                Kilimani, Nairobi\\n            ', '\\n            The apartments are in close proximity to fine dining restaurants, entertainment areas and high-end shopping malls\\n The apartments...\\n        ', '\\n                    KSh 7 500 000\\n                ']\n",
      "['\\n                Lavington, Nairobi\\n            ', '\\n                Lavington, Nairobi\\n            ', '\\n            Executive 5bedroom townhouse\\n \\n Got the following features ;\\n \\n > Got a lovely large living room. \\n > Large kitchennet .\\n        ', '\\n                    KSh 57 000 000\\n                ']\n",
      "['Kileleshwa, Nairobi', 'Kileleshwa, Nairobi', '\\n            Located in upscale Kileleshwa on Mandera Road and in close proximity to Riverside, Lavington and Westlands, Elina Residency sits in the heart of suburban Nairobi. With its secure,...\\n        ', 'From']\n",
      "['\\n                Kilimani Nairobi, Kilimani, Nairobi\\n            ', '\\n                Kilimani Nairobi, Kilimani, Nairobi\\n            ', '\\n            Call/Whatsapp +254745544807\\n Fully Equiped Gym\\n Backup generator\\n high Speed lifts\\n Childrens Playground\\n cctv and Intercom\\n 24hr...\\n        ', '\\n                    KSh 8 000 000\\n                ']\n",
      "['\\n                Riverside Drive, Riverside, Nairobi\\n            ', '\\n                Riverside Drive, Riverside, Nairobi\\n            ', '\\n\\n            A beautiful and spacious 2-bedroom apartment located in Grand Riverside, Riverside Drive. The build quality is exceptional, and f...\\n        ', '\\n                    KSh 22 000 000\\n                ']\n",
      "['\\n                RP4V+P88 Ndenderu, Ruaka, Nairobi\\n            ', '\\n                RP4V+P88 Ndenderu, Ruaka, Nairobi\\n            ', '\\n            Fanisi Tigoni View\\n \\n Status: On-going\\n Description\\n This is the development of apartments in Ndenderu, Ruaka next to the Western...\\n        ', '\\n                    KSh 6 500 000\\n                ']\n",
      "['\\n                Kileleshwa Nairobi, Kileleshwa, Nairobi\\n            ', '\\n                Kileleshwa Nairobi, Kileleshwa, Nairobi\\n            ', '\\n\\n            3 Bedroom+SQ { 4toilets} 177sqm 16. 5M\\n \\n 4 Bedroom+SQ {5toilets} 211sqm 22M\\n \\n Key benefits : \\n -Strategically located and conve...\\n        ', '\\n                    KSh 16 500 000\\n                ']\n",
      "['\\n                Kilimani Nairobi, Kilimani, Nairobi\\n            ', '\\n                Kilimani Nairobi, Kilimani, Nairobi\\n            ', '\\n            Call/Whatsapp +254745544807\\n Fully Equiped Gym\\n Backup generator\\n high Speed lifts\\n Childrens Playground\\n cctv and Intercom\\n 24hr...\\n        ', '\\n                    KSh 8 000 000\\n                ']\n",
      "['\\n                Loresho Nairobi, Loresho, Nairobi\\n            ', '\\n                Loresho Nairobi, Loresho, Nairobi\\n            ', '\\n            4 bedroom Maisonette with a servants quarter for sale in Loresho with the following features ;\\n It has a gated both in...\\n        ', '\\n                    KSh 27 000 000\\n                ']\n",
      "['\\n                Nairobi Nairobi County, South C, Nairobi\\n            ', '\\n                Nairobi Nairobi County, South C, Nairobi\\n            ', '\\n            Features\\n •\\tTerrace House\\n •\\tFour Bedrooms + DSQ\\n •\\t2 Bedrooms ensuite\\n •\\tTwo Reception Rooms\\n •\\tFitted Kitchen\\n •\\tGarden\\n •\\t3 Pa...\\n        ', '\\n                    KSh 21 000 000\\n                ']\n",
      "['\\n                Denis Pritt Road, Kilimani, Nairobi\\n            ', '\\n                Denis Pritt Road, Kilimani, Nairobi\\n            ', \"\\n            It's a 2 bedroom apartment, both ensuite with private master bedroom balcony. \\n \\n Open plan with an island. \\n \\n Dining...\\n        \", '\\n                    KSh 13 500 000\\n                ']\n",
      "['Lavington, Nairobi', 'Lavington, Nairobi', '\\n            Experience living in an elegantly modern villa, thoughtfully designed to be fully compatible with your every need, the compound consists of just 12 classy four-bedroom, offering a choice of two...\\n        ', 'From']\n"
     ]
    }
   ],
   "source": [
    "#Write a Python program to read and display the content of a given CSV file\n",
    "filename='house.csv'\n",
    "with open( filename,'r') as csvfile:\n",
    "    file=csv.reader(csvfile)\n",
    "    for i in file:\n",
    "        print(i)\n",
    "    "
   ]
  },
  {
   "cell_type": "code",
   "execution_count": 15,
   "metadata": {},
   "outputs": [
    {
     "name": "stdout",
     "output_type": "stream",
     "text": [
      "OrderedDict([('Title', '\\n                Lavington, Nairobi\\n            '), ('Location', '\\n                Lavington, Nairobi\\n            '), ('Describition', '\\n            A 14 floor development comprising spacious studios, 2 and 3 bed apartments. \\n \\n Facilities: 2 high-speed lifts (from Germany) per...\\n        '), ('Price', '\\n                    KSh 9 500 000\\n                ')])\n",
      "OrderedDict([('Title', '\\n                PW92+6WG Umoja, Umoja, Nairobi\\n            '), ('Location', '\\n                PW92+6WG Umoja, Umoja, Nairobi\\n            '), ('Describition', '\\n            On the busy Manyanja Road, Bee Centre area hosts an amazing Barber shop that is great for business. Its features include; generat...\\n        '), ('Price', '\\n                    KSh 2 900 000\\n                ')])\n",
      "OrderedDict([('Title', 'Lavington, Nairobi'), ('Location', 'Lavington, Nairobi'), ('Describition', '\\n            3 bedroom corner plot townhouse in Lavington West Estate, with a garden, garage for 3 cars, DSQ servant quarter self contained. Master ensuite, 1 study room. Size 0.\\n        '), ('Price', 'From')])\n",
      "OrderedDict([('Title', '\\n                OTHAYA ROAD, Kileleshwa, Nairobi\\n            '), ('Location', '\\n                OTHAYA ROAD, Kileleshwa, Nairobi\\n            '), ('Describition', '\\n\\n            Under construction, 3 bedroom spacious Apartments. \\n All en suite, Open Plan Kitchen, \\n Spacious Washing Area\\n Good Fittings and ...\\n        '), ('Price', '\\n                    KSh 21 000 000\\n                ')])\n",
      "OrderedDict([('Title', '\\n                KE Kileleshwa, Kileleshwa, Nairobi\\n            '), ('Location', '\\n                KE Kileleshwa, Kileleshwa, Nairobi\\n            '), ('Describition', '\\n\\n            The project is located along Othaya Road, Kileleshwa. This location is 8-minute-drive from Lavington Shopping Centre, a walking d...\\n        '), ('Price', '\\n                    KSh 9 900 000\\n                ')])\n",
      "OrderedDict([('Title', '\\n'), ('Location', '\\n'), ('Describition', '\\n\\n            FEATURES AND AMENITIES\\n * Swimming Pool with separate changing rooms\\n * Gym\\n * 24 hours security service\\n * Two parking for every...\\n        '), ('Price', '\\n                    KSh 19 000 000\\n                ')])\n",
      "OrderedDict([('Title', 'Lavington, Nairobi'), ('Location', 'Lavington, Nairobi'), ('Describition', '\\n            Experience living in an elegantly modern villa, thoughtfully designed to be fully compatible with your every need, the compound consists of just 12 classy four-bedroom, offering a choice...\\n        '), ('Price', 'From')])\n",
      "OrderedDict([('Title', '\\n                Lavington, Nairobi\\n            '), ('Location', '\\n                Lavington, Nairobi\\n            '), ('Describition', '\\n            A 14 floor development comprising spacious studios, 2 and 3 bed apartments. \\n \\n Facilities: 2 high-speed lifts (from Germany) per...\\n        '), ('Price', '\\n                    KSh 4 200 000\\n                ')])\n",
      "OrderedDict([('Title', '\\n                Muthaiga, Nairobi\\n            '), ('Location', '\\n                Muthaiga, Nairobi\\n            '), ('Describition', '\\n            Ideal for development purposes\\n With an old House\\n        '), ('Price', '\\n                    KSh 750 000 000\\n                ')])\n",
      "OrderedDict([('Title', '\\n                Ngong Rd Nairobi, Ngong Rd, Nairobi\\n            '), ('Location', '\\n                Ngong Rd Nairobi, Ngong Rd, Nairobi\\n            '), ('Describition', '\\n            This prime piece of land is finally up for sale\\n Located in the highly sort out area of Ngong Road and touches...\\n        '), ('Price', '\\n                    KSh 320 000 000\\n                ')])\n",
      "OrderedDict([('Title', 'Lavington, Nairobi'), ('Location', 'Lavington, Nairobi'), ('Describition', '\\n            Experience living in an elegantly modern villa, thoughtfully designed to be fully compatible with your every need, the compound consists of just 12 classy four-bedroom, offering a choice...\\n        '), ('Price', 'From')])\n",
      "OrderedDict([('Title', '\\n                Mwihoko, Mwihoko, Nairobi\\n            '), ('Location', '\\n                Mwihoko, Mwihoko, Nairobi\\n            '), ('Describition', '\\n\\n            ~Located mwihoko , githurai, nairobi. \\n ~ Plot size ? freehold title\\n Spacious beautiful house\\n        '), ('Price', '\\n                    KSh 13 000 000\\n                ')])\n",
      "OrderedDict([('Title', '\\n                Lower Kabete Rd Nairobi, Lower Kabete, Nairobi\\n            '), ('Location', '\\n                Lower Kabete Rd Nairobi, Lower Kabete, Nairobi\\n            '), ('Describition', '\\n\\n            Five bedroom all ensuite located in a serene environment in Lower kabete\\n it has the following features\\n Sits in a half of...\\n        '), ('Price', '\\n                    KSh 230 000 000\\n                ')])\n",
      "OrderedDict([('Title', '\\n                Kilimani, Nairobi, Kilimani, Nairobi\\n            '), ('Location', '\\n                Kilimani, Nairobi, Kilimani, Nairobi\\n            '), ('Describition', '\\n            Serene 3 bedrooms apartments located along Dennis Pritt Road. It’s positioned in a quiet and friendly neighborhood which is a 10-...\\n        '), ('Price', '\\n                    KSh 18 000 000\\n                ')])\n",
      "OrderedDict([('Title', '\\n                Kilimani, Nairobi\\n            '), ('Location', '\\n                Kilimani, Nairobi\\n            '), ('Describition', '\\n            The apartments are in close proximity to fine dining restaurants, entertainment areas and high-end shopping malls\\n The apartments...\\n        '), ('Price', '\\n                    KSh 7 500 000\\n                ')])\n",
      "OrderedDict([('Title', '\\n                Lavington, Nairobi\\n            '), ('Location', '\\n                Lavington, Nairobi\\n            '), ('Describition', '\\n            Executive 5bedroom townhouse\\n \\n Got the following features ;\\n \\n > Got a lovely large living room. \\n > Large kitchennet .\\n        '), ('Price', '\\n                    KSh 57 000 000\\n                ')])\n",
      "OrderedDict([('Title', 'Kileleshwa, Nairobi'), ('Location', 'Kileleshwa, Nairobi'), ('Describition', '\\n            Located in upscale Kileleshwa on Mandera Road and in close proximity to Riverside, Lavington and Westlands, Elina Residency sits in the heart of suburban Nairobi. With its secure,...\\n        '), ('Price', 'From')])\n",
      "OrderedDict([('Title', '\\n                Kilimani Nairobi, Kilimani, Nairobi\\n            '), ('Location', '\\n                Kilimani Nairobi, Kilimani, Nairobi\\n            '), ('Describition', '\\n            Call/Whatsapp +254745544807\\n Fully Equiped Gym\\n Backup generator\\n high Speed lifts\\n Childrens Playground\\n cctv and Intercom\\n 24hr...\\n        '), ('Price', '\\n                    KSh 8 000 000\\n                ')])\n",
      "OrderedDict([('Title', '\\n                Riverside Drive, Riverside, Nairobi\\n            '), ('Location', '\\n                Riverside Drive, Riverside, Nairobi\\n            '), ('Describition', '\\n\\n            A beautiful and spacious 2-bedroom apartment located in Grand Riverside, Riverside Drive. The build quality is exceptional, and f...\\n        '), ('Price', '\\n                    KSh 22 000 000\\n                ')])\n",
      "OrderedDict([('Title', '\\n                RP4V+P88 Ndenderu, Ruaka, Nairobi\\n            '), ('Location', '\\n                RP4V+P88 Ndenderu, Ruaka, Nairobi\\n            '), ('Describition', '\\n            Fanisi Tigoni View\\n \\n Status: On-going\\n Description\\n This is the development of apartments in Ndenderu, Ruaka next to the Western...\\n        '), ('Price', '\\n                    KSh 6 500 000\\n                ')])\n",
      "OrderedDict([('Title', '\\n                Kileleshwa Nairobi, Kileleshwa, Nairobi\\n            '), ('Location', '\\n                Kileleshwa Nairobi, Kileleshwa, Nairobi\\n            '), ('Describition', '\\n\\n            3 Bedroom+SQ { 4toilets} 177sqm 16. 5M\\n \\n 4 Bedroom+SQ {5toilets} 211sqm 22M\\n \\n Key benefits : \\n -Strategically located and conve...\\n        '), ('Price', '\\n                    KSh 16 500 000\\n                ')])\n",
      "OrderedDict([('Title', '\\n                Kilimani Nairobi, Kilimani, Nairobi\\n            '), ('Location', '\\n                Kilimani Nairobi, Kilimani, Nairobi\\n            '), ('Describition', '\\n            Call/Whatsapp +254745544807\\n Fully Equiped Gym\\n Backup generator\\n high Speed lifts\\n Childrens Playground\\n cctv and Intercom\\n 24hr...\\n        '), ('Price', '\\n                    KSh 8 000 000\\n                ')])\n",
      "OrderedDict([('Title', '\\n                Loresho Nairobi, Loresho, Nairobi\\n            '), ('Location', '\\n                Loresho Nairobi, Loresho, Nairobi\\n            '), ('Describition', '\\n            4 bedroom Maisonette with a servants quarter for sale in Loresho with the following features ;\\n It has a gated both in...\\n        '), ('Price', '\\n                    KSh 27 000 000\\n                ')])\n",
      "OrderedDict([('Title', '\\n                Nairobi Nairobi County, South C, Nairobi\\n            '), ('Location', '\\n                Nairobi Nairobi County, South C, Nairobi\\n            '), ('Describition', '\\n            Features\\n •\\tTerrace House\\n •\\tFour Bedrooms + DSQ\\n •\\t2 Bedrooms ensuite\\n •\\tTwo Reception Rooms\\n •\\tFitted Kitchen\\n •\\tGarden\\n •\\t3 Pa...\\n        '), ('Price', '\\n                    KSh 21 000 000\\n                ')])\n",
      "OrderedDict([('Title', '\\n                Denis Pritt Road, Kilimani, Nairobi\\n            '), ('Location', '\\n                Denis Pritt Road, Kilimani, Nairobi\\n            '), ('Describition', \"\\n            It's a 2 bedroom apartment, both ensuite with private master bedroom balcony. \\n \\n Open plan with an island. \\n \\n Dining...\\n        \"), ('Price', '\\n                    KSh 13 500 000\\n                ')])\n",
      "OrderedDict([('Title', 'Lavington, Nairobi'), ('Location', 'Lavington, Nairobi'), ('Describition', '\\n            Experience living in an elegantly modern villa, thoughtfully designed to be fully compatible with your every need, the compound consists of just 12 classy four-bedroom, offering a choice of two...\\n        '), ('Price', 'From')])\n"
     ]
    }
   ],
   "source": [
    "filename='house.csv'\n",
    "with open( filename,'r') as csvfile:\n",
    "    file=csv.DictReader(csvfile)\n",
    "    for i in file:\n",
    "        print(i)"
   ]
  },
  {
   "cell_type": "code",
   "execution_count": 20,
   "metadata": {},
   "outputs": [
    {
     "name": "stdout",
     "output_type": "stream",
     "text": [
      "27\n"
     ]
    }
   ],
   "source": [
    "# Write a Python program to count the number of lines in a given CSV file\n",
    "lines=''\n",
    "with open('house.csv' ,'r') as file:\n",
    "    data=csv.reader(file)\n",
    "    results=len(list(data))\n",
    "    print(results)\n",
    "   "
   ]
  },
  {
   "cell_type": "code",
   "execution_count": 22,
   "metadata": {},
   "outputs": [
    {
     "name": "stdout",
     "output_type": "stream",
     "text": [
      "27\n"
     ]
    }
   ],
   "source": [
    "data=csv.reader(open('house.csv'))\n",
    "res=len(list(data))\n",
    "print(res)"
   ]
  },
  {
   "cell_type": "code",
   "execution_count": 25,
   "metadata": {},
   "outputs": [
    {
     "name": "stdout",
     "output_type": "stream",
     "text": [
      "[['1', '2', '3'], ['4', '5', '6'], ['7', '8', '9']]\n"
     ]
    }
   ],
   "source": [
    "#Write a Python program to parse a given CSV string and get the list of lists of string values. Use csv.reader\n",
    "csv_string=\"\"\"1,2,3\n",
    "4,5,6\n",
    "7,8,9\n",
    "\"\"\"\n",
    "lines=csv_string.splitlines()\n",
    "lines\n",
    "reader=csv.reader(lines)\n",
    "res=list(reader)\n",
    "print(res)"
   ]
  },
  {
   "cell_type": "code",
   "execution_count": 29,
   "metadata": {},
   "outputs": [
    {
     "name": "stdout",
     "output_type": "stream",
     "text": [
      "['\\n                Lavington, Nairobi\\n            ', '\\n                Lavington, Nairobi\\n            ', '\\n            A 14 floor development comprising spacious studios, 2 and 3 bed apartments. \\n \\n Facilities: 2 high-speed lifts (from Germany) per...\\n        ', '\\n                    KSh 9 500 000\\n                ']\n",
      "['\\n                PW92+6WG Umoja, Umoja, Nairobi\\n            ', '\\n                PW92+6WG Umoja, Umoja, Nairobi\\n            ', '\\n            On the busy Manyanja Road, Bee Centre area hosts an amazing Barber shop that is great for business. Its features include; generat...\\n        ', '\\n                    KSh 2 900 000\\n                ']\n",
      "['Lavington, Nairobi', 'Lavington, Nairobi', '\\n            3 bedroom corner plot townhouse in Lavington West Estate, with a garden, garage for 3 cars, DSQ servant quarter self contained. Master ensuite, 1 study room. Size 0.\\n        ', 'From']\n",
      "['\\n                OTHAYA ROAD, Kileleshwa, Nairobi\\n            ', '\\n                OTHAYA ROAD, Kileleshwa, Nairobi\\n            ', '\\n\\n            Under construction, 3 bedroom spacious Apartments. \\n All en suite, Open Plan Kitchen, \\n Spacious Washing Area\\n Good Fittings and ...\\n        ', '\\n                    KSh 21 000 000\\n                ']\n",
      "['\\n                KE Kileleshwa, Kileleshwa, Nairobi\\n            ', '\\n                KE Kileleshwa, Kileleshwa, Nairobi\\n            ', '\\n\\n            The project is located along Othaya Road, Kileleshwa. This location is 8-minute-drive from Lavington Shopping Centre, a walking d...\\n        ', '\\n                    KSh 9 900 000\\n                ']\n",
      "['\\n', '\\n', '\\n\\n            FEATURES AND AMENITIES\\n * Swimming Pool with separate changing rooms\\n * Gym\\n * 24 hours security service\\n * Two parking for every...\\n        ', '\\n                    KSh 19 000 000\\n                ']\n",
      "['Lavington, Nairobi', 'Lavington, Nairobi', '\\n            Experience living in an elegantly modern villa, thoughtfully designed to be fully compatible with your every need, the compound consists of just 12 classy four-bedroom, offering a choice...\\n        ', 'From']\n",
      "['\\n                Lavington, Nairobi\\n            ', '\\n                Lavington, Nairobi\\n            ', '\\n            A 14 floor development comprising spacious studios, 2 and 3 bed apartments. \\n \\n Facilities: 2 high-speed lifts (from Germany) per...\\n        ', '\\n                    KSh 4 200 000\\n                ']\n",
      "['\\n                Muthaiga, Nairobi\\n            ', '\\n                Muthaiga, Nairobi\\n            ', '\\n            Ideal for development purposes\\n With an old House\\n        ', '\\n                    KSh 750 000 000\\n                ']\n",
      "['\\n                Ngong Rd Nairobi, Ngong Rd, Nairobi\\n            ', '\\n                Ngong Rd Nairobi, Ngong Rd, Nairobi\\n            ', '\\n            This prime piece of land is finally up for sale\\n Located in the highly sort out area of Ngong Road and touches...\\n        ', '\\n                    KSh 320 000 000\\n                ']\n",
      "['Lavington, Nairobi', 'Lavington, Nairobi', '\\n            Experience living in an elegantly modern villa, thoughtfully designed to be fully compatible with your every need, the compound consists of just 12 classy four-bedroom, offering a choice...\\n        ', 'From']\n",
      "['\\n                Mwihoko, Mwihoko, Nairobi\\n            ', '\\n                Mwihoko, Mwihoko, Nairobi\\n            ', '\\n\\n            ~Located mwihoko , githurai, nairobi. \\n ~ Plot size ? freehold title\\n Spacious beautiful house\\n        ', '\\n                    KSh 13 000 000\\n                ']\n",
      "['\\n                Lower Kabete Rd Nairobi, Lower Kabete, Nairobi\\n            ', '\\n                Lower Kabete Rd Nairobi, Lower Kabete, Nairobi\\n            ', '\\n\\n            Five bedroom all ensuite located in a serene environment in Lower kabete\\n it has the following features\\n Sits in a half of...\\n        ', '\\n                    KSh 230 000 000\\n                ']\n",
      "['\\n                Kilimani, Nairobi, Kilimani, Nairobi\\n            ', '\\n                Kilimani, Nairobi, Kilimani, Nairobi\\n            ', '\\n            Serene 3 bedrooms apartments located along Dennis Pritt Road. It’s positioned in a quiet and friendly neighborhood which is a 10-...\\n        ', '\\n                    KSh 18 000 000\\n                ']\n",
      "['\\n                Kilimani, Nairobi\\n            ', '\\n                Kilimani, Nairobi\\n            ', '\\n            The apartments are in close proximity to fine dining restaurants, entertainment areas and high-end shopping malls\\n The apartments...\\n        ', '\\n                    KSh 7 500 000\\n                ']\n",
      "['\\n                Lavington, Nairobi\\n            ', '\\n                Lavington, Nairobi\\n            ', '\\n            Executive 5bedroom townhouse\\n \\n Got the following features ;\\n \\n > Got a lovely large living room. \\n > Large kitchennet .\\n        ', '\\n                    KSh 57 000 000\\n                ']\n",
      "['Kileleshwa, Nairobi', 'Kileleshwa, Nairobi', '\\n            Located in upscale Kileleshwa on Mandera Road and in close proximity to Riverside, Lavington and Westlands, Elina Residency sits in the heart of suburban Nairobi. With its secure,...\\n        ', 'From']\n",
      "['\\n                Kilimani Nairobi, Kilimani, Nairobi\\n            ', '\\n                Kilimani Nairobi, Kilimani, Nairobi\\n            ', '\\n            Call/Whatsapp +254745544807\\n Fully Equiped Gym\\n Backup generator\\n high Speed lifts\\n Childrens Playground\\n cctv and Intercom\\n 24hr...\\n        ', '\\n                    KSh 8 000 000\\n                ']\n",
      "['\\n                Riverside Drive, Riverside, Nairobi\\n            ', '\\n                Riverside Drive, Riverside, Nairobi\\n            ', '\\n\\n            A beautiful and spacious 2-bedroom apartment located in Grand Riverside, Riverside Drive. The build quality is exceptional, and f...\\n        ', '\\n                    KSh 22 000 000\\n                ']\n",
      "['\\n                RP4V+P88 Ndenderu, Ruaka, Nairobi\\n            ', '\\n                RP4V+P88 Ndenderu, Ruaka, Nairobi\\n            ', '\\n            Fanisi Tigoni View\\n \\n Status: On-going\\n Description\\n This is the development of apartments in Ndenderu, Ruaka next to the Western...\\n        ', '\\n                    KSh 6 500 000\\n                ']\n",
      "['\\n                Kileleshwa Nairobi, Kileleshwa, Nairobi\\n            ', '\\n                Kileleshwa Nairobi, Kileleshwa, Nairobi\\n            ', '\\n\\n            3 Bedroom+SQ { 4toilets} 177sqm 16. 5M\\n \\n 4 Bedroom+SQ {5toilets} 211sqm 22M\\n \\n Key benefits : \\n -Strategically located and conve...\\n        ', '\\n                    KSh 16 500 000\\n                ']\n",
      "['\\n                Kilimani Nairobi, Kilimani, Nairobi\\n            ', '\\n                Kilimani Nairobi, Kilimani, Nairobi\\n            ', '\\n            Call/Whatsapp +254745544807\\n Fully Equiped Gym\\n Backup generator\\n high Speed lifts\\n Childrens Playground\\n cctv and Intercom\\n 24hr...\\n        ', '\\n                    KSh 8 000 000\\n                ']\n",
      "['\\n                Loresho Nairobi, Loresho, Nairobi\\n            ', '\\n                Loresho Nairobi, Loresho, Nairobi\\n            ', '\\n            4 bedroom Maisonette with a servants quarter for sale in Loresho with the following features ;\\n It has a gated both in...\\n        ', '\\n                    KSh 27 000 000\\n                ']\n",
      "['\\n                Nairobi Nairobi County, South C, Nairobi\\n            ', '\\n                Nairobi Nairobi County, South C, Nairobi\\n            ', '\\n            Features\\n •\\tTerrace House\\n •\\tFour Bedrooms + DSQ\\n •\\t2 Bedrooms ensuite\\n •\\tTwo Reception Rooms\\n •\\tFitted Kitchen\\n •\\tGarden\\n •\\t3 Pa...\\n        ', '\\n                    KSh 21 000 000\\n                ']\n",
      "['\\n                Denis Pritt Road, Kilimani, Nairobi\\n            ', '\\n                Denis Pritt Road, Kilimani, Nairobi\\n            ', \"\\n            It's a 2 bedroom apartment, both ensuite with private master bedroom balcony. \\n \\n Open plan with an island. \\n \\n Dining...\\n        \", '\\n                    KSh 13 500 000\\n                ']\n",
      "['Lavington, Nairobi', 'Lavington, Nairobi', '\\n            Experience living in an elegantly modern villa, thoughtfully designed to be fully compatible with your every need, the compound consists of just 12 classy four-bedroom, offering a choice of two...\\n        ', 'From']\n"
     ]
    }
   ],
   "source": [
    "# Write a Python program to read the current line from a given CSV file.\n",
    "data2=csv.reader(open('house.csv'))\n",
    "next(data2)\n",
    "for i in data2:\n",
    "    print(i)"
   ]
  },
  {
   "cell_type": "code",
   "execution_count": null,
   "metadata": {},
   "outputs": [],
   "source": []
  }
 ],
 "metadata": {
  "kernelspec": {
   "display_name": "Python 3",
   "language": "python",
   "name": "python3"
  },
  "language_info": {
   "codemirror_mode": {
    "name": "ipython",
    "version": 3
   },
   "file_extension": ".py",
   "mimetype": "text/x-python",
   "name": "python",
   "nbconvert_exporter": "python",
   "pygments_lexer": "ipython3",
   "version": "3.7.6"
  }
 },
 "nbformat": 4,
 "nbformat_minor": 4
}
