{
 "cells": [
  {
   "cell_type": "code",
   "execution_count": 1,
   "metadata": {},
   "outputs": [],
   "source": [
    "import random"
   ]
  },
  {
   "cell_type": "code",
   "execution_count": 3,
   "metadata": {},
   "outputs": [
    {
     "ename": "TypeError",
     "evalue": "can only concatenate str (not \"int\") to str",
     "output_type": "error",
     "traceback": [
      "\u001b[0;31m---------------------------------------------------------------------------\u001b[0m",
      "\u001b[0;31mTypeError\u001b[0m                                 Traceback (most recent call last)",
      "\u001b[0;32m<ipython-input-3-98f8dd14a42e>\u001b[0m in \u001b[0;36m<module>\u001b[0;34m\u001b[0m\n\u001b[0;32m----> 1\u001b[0;31m \u001b[0mcolor_hex\u001b[0m\u001b[0;34m=\u001b[0m\u001b[0mrandom\u001b[0m\u001b[0;34m.\u001b[0m\u001b[0mrandint\u001b[0m\u001b[0;34m(\u001b[0m\u001b[0mhex\u001b[0m\u001b[0;34m,\u001b[0m\u001b[0;34m'RBG'\u001b[0m\u001b[0;34m)\u001b[0m\u001b[0;34m\u001b[0m\u001b[0;34m\u001b[0m\u001b[0m\n\u001b[0m",
      "\u001b[0;32m~/anaconda3/lib/python3.7/random.py\u001b[0m in \u001b[0;36mrandint\u001b[0;34m(self, a, b)\u001b[0m\n\u001b[1;32m    220\u001b[0m         \"\"\"\n\u001b[1;32m    221\u001b[0m \u001b[0;34m\u001b[0m\u001b[0m\n\u001b[0;32m--> 222\u001b[0;31m         \u001b[0;32mreturn\u001b[0m \u001b[0mself\u001b[0m\u001b[0;34m.\u001b[0m\u001b[0mrandrange\u001b[0m\u001b[0;34m(\u001b[0m\u001b[0ma\u001b[0m\u001b[0;34m,\u001b[0m \u001b[0mb\u001b[0m\u001b[0;34m+\u001b[0m\u001b[0;36m1\u001b[0m\u001b[0;34m)\u001b[0m\u001b[0;34m\u001b[0m\u001b[0;34m\u001b[0m\u001b[0m\n\u001b[0m\u001b[1;32m    223\u001b[0m \u001b[0;34m\u001b[0m\u001b[0m\n\u001b[1;32m    224\u001b[0m     def _randbelow(self, n, int=int, maxsize=1<<BPF, type=type,\n",
      "\u001b[0;31mTypeError\u001b[0m: can only concatenate str (not \"int\") to str"
     ]
    }
   ],
   "source": [
    "color_hex=random.randint(hex,'RBG')"
   ]
  },
  {
   "cell_type": "code",
   "execution_count": 4,
   "metadata": {},
   "outputs": [
    {
     "data": {
      "text/plain": [
       "5"
      ]
     },
     "execution_count": 4,
     "metadata": {},
     "output_type": "execute_result"
    }
   ],
   "source": [
    "digit=random.randint(2,8)\n",
    "digit"
   ]
  },
  {
   "cell_type": "code",
   "execution_count": 5,
   "metadata": {},
   "outputs": [
    {
     "name": "stdout",
     "output_type": "stream",
     "text": [
      "45\n"
     ]
    }
   ],
   "source": [
    "data=[12,45,6,7,89,90]\n",
    "print(random.choice(data))"
   ]
  },
  {
   "cell_type": "code",
   "execution_count": 6,
   "metadata": {},
   "outputs": [
    {
     "name": "stdout",
     "output_type": "stream",
     "text": [
      "17\n"
     ]
    }
   ],
   "source": [
    "results=random.randint(12,17)\n",
    "print(results)"
   ]
  },
  {
   "cell_type": "code",
   "execution_count": 7,
   "metadata": {},
   "outputs": [
    {
     "name": "stdout",
     "output_type": "stream",
     "text": [
      "0.31350812707558673\n"
     ]
    }
   ],
   "source": [
    "print(random.random())"
   ]
  },
  {
   "cell_type": "code",
   "execution_count": 8,
   "metadata": {},
   "outputs": [
    {
     "name": "stdout",
     "output_type": "stream",
     "text": [
      "dennis\n"
     ]
    }
   ],
   "source": [
    "select=['maggi','janet','cate','dennis']\n",
    "print(random.choice(select))"
   ]
  },
  {
   "cell_type": "code",
   "execution_count": 9,
   "metadata": {},
   "outputs": [
    {
     "name": "stdout",
     "output_type": "stream",
     "text": [
      "[6, 9, 5, 12, 0, 8]\n"
     ]
    }
   ],
   "source": [
    "select=[12,5,6,8,9,0]\n",
    "random.shuffle(select)\n",
    "print(select)"
   ]
  },
  {
   "cell_type": "code",
   "execution_count": 10,
   "metadata": {},
   "outputs": [
    {
     "name": "stdout",
     "output_type": "stream",
     "text": [
      "\n",
      "After the second shuffle : \n",
      "[5, 3, 2, 4, 1]\n"
     ]
    }
   ],
   "source": [
    "sample_list = [1, 2, 3, 4, 5]\n",
    "random.shuffle(sample_list)\n",
    "print(\"\\nAfter the second shuffle : \")\n",
    "print(sample_list)"
   ]
  },
  {
   "cell_type": "code",
   "execution_count": 11,
   "metadata": {},
   "outputs": [
    {
     "name": "stdout",
     "output_type": "stream",
     "text": [
      "n\n"
     ]
    }
   ],
   "source": [
    "#random alphabetical string\n",
    "name='the queen has just arrive'\n",
    "print(random.choice(name))"
   ]
  },
  {
   "cell_type": "code",
   "execution_count": 12,
   "metadata": {},
   "outputs": [
    {
     "name": "stdout",
     "output_type": "stream",
     "text": [
      "163\n"
     ]
    }
   ],
   "source": [
    "#random value between two integers (inclusive) \n",
    "print(random.randint(144,188))"
   ]
  },
  {
   "cell_type": "code",
   "execution_count": 19,
   "metadata": {},
   "outputs": [
    {
     "name": "stdout",
     "output_type": "stream",
     "text": [
      "#004207\n"
     ]
    }
   ],
   "source": [
    "print(\"#{:06x}\".format(random.randint(0,0xBBBF)))"
   ]
  },
  {
   "cell_type": "code",
   "execution_count": 24,
   "metadata": {},
   "outputs": [
    {
     "name": "stdout",
     "output_type": "stream",
     "text": [
      "jlbEOEvUchSTzTVojbAJISfQZHgmGzFRQSYjiMZvjKZqWhVYuumHTDTAv\n"
     ]
    }
   ],
   "source": [
    "import string\n",
    "max_lenght=123\n",
    "s=''\n",
    "for i in range(random.randint(1,max_lenght)):\n",
    "    s+=random.choice(string.ascii_letters)\n",
    "print(s)"
   ]
  },
  {
   "cell_type": "code",
   "execution_count": 25,
   "metadata": {},
   "outputs": [
    {
     "name": "stdout",
     "output_type": "stream",
     "text": [
      "266\n"
     ]
    }
   ],
   "source": [
    "print(random.randint(0,70)*7)"
   ]
  },
  {
   "cell_type": "code",
   "execution_count": 26,
   "metadata": {},
   "outputs": [
    {
     "name": "stdout",
     "output_type": "stream",
     "text": [
      "6\n"
     ]
    }
   ],
   "source": [
    "#Write a Python program to select a random element from a list, \n",
    "#set, dictionary (value) and a file from a directory. Use random.choice()\n",
    "lis=[23,6,8,9,9,67]\n",
    "print(random.choice(lis))\n"
   ]
  },
  {
   "cell_type": "code",
   "execution_count": 32,
   "metadata": {},
   "outputs": [
    {
     "name": "stdout",
     "output_type": "stream",
     "text": [
      "12\n"
     ]
    }
   ],
   "source": [
    "data=set([12,8,9,4])\n",
    "print(random.choice(tuple([12,8,9,4])))"
   ]
  },
  {
   "cell_type": "code",
   "execution_count": 40,
   "metadata": {},
   "outputs": [
    {
     "name": "stdout",
     "output_type": "stream",
     "text": [
      "67\n"
     ]
    }
   ],
   "source": [
    "dic={'janet' :13,'cate' :67,'david':23}\n",
    "res=random.choice(list(dic))\n",
    "print(dic[res])"
   ]
  },
  {
   "cell_type": "code",
   "execution_count": 41,
   "metadata": {},
   "outputs": [
    {
     "name": "stdout",
     "output_type": "stream",
     "text": [
      "lib64\n"
     ]
    }
   ],
   "source": [
    "import os\n",
    "print(random.choice(os.listdir('/')))"
   ]
  },
  {
   "cell_type": "code",
   "execution_count": 45,
   "metadata": {},
   "outputs": [
    {
     "name": "stdout",
     "output_type": "stream",
     "text": [
      "S\n"
     ]
    }
   ],
   "source": [
    "#Write a Python program to generate a random alphabetical character, alphabetical \n",
    "#string and alphabetical string of a fixed length. Use random.choice()\n",
    "import string\n",
    "data=string.ascii_letters\n",
    "print(random.choice(data))"
   ]
  },
  {
   "cell_type": "code",
   "execution_count": 50,
   "metadata": {},
   "outputs": [
    {
     "name": "stdout",
     "output_type": "stream",
     "text": [
      "djrmBkRy\n"
     ]
    }
   ],
   "source": [
    "import string\n",
    "max_lengt=12\n",
    "s=''\n",
    "for i in range( random.randint(0,12)):\n",
    "    s+=random.choice(string.ascii_letters)\n",
    "print(s)"
   ]
  },
  {
   "cell_type": "code",
   "execution_count": 51,
   "metadata": {},
   "outputs": [
    {
     "name": "stdout",
     "output_type": "stream",
     "text": [
      "FbsmoPTfvfMz\n"
     ]
    }
   ],
   "source": [
    "#Generate a random alphabetical string of a fixed length\n",
    "t=''\n",
    "for i in range(12):\n",
    "    t+=random.choice(string.ascii_letters)\n",
    "print(t)"
   ]
  },
  {
   "cell_type": "code",
   "execution_count": 52,
   "metadata": {},
   "outputs": [
    {
     "name": "stdout",
     "output_type": "stream",
     "text": [
      "0.8838787069214131\n"
     ]
    }
   ],
   "source": [
    "#Write a Python program to construct a seeded random number generator, also generate \n",
    "# a float between 0 and 1, excluding 1. Use random.random()\n",
    "print(random.random())"
   ]
  },
  {
   "cell_type": "code",
   "execution_count": 63,
   "metadata": {},
   "outputs": [
    {
     "name": "stdout",
     "output_type": "stream",
     "text": [
      "4\n",
      "7\n",
      "6\n"
     ]
    }
   ],
   "source": [
    "#Write a Python program to generate a random integer \n",
    "#between 0 and 6 - excluding 6, random integer between 5 and 10 - excluding 10, \n",
    "#random integer between 0 and 10, with a step \n",
    "#of 3 and random date between two dates. Use random.randrange()\n",
    "data=random.randrange(6)\n",
    "print(data)\n",
    "print(random.randrange(start=5, stop=10))\n",
    "print(random.randrange(start=0, stop=11, step=3))"
   ]
  },
  {
   "cell_type": "code",
   "execution_count": 6,
   "metadata": {},
   "outputs": [
    {
     "name": "stdout",
     "output_type": "stream",
     "text": [
      "2020-02-07\n"
     ]
    }
   ],
   "source": [
    "import random\n",
    "import datetime\n",
    "# from datetime import date\n",
    "start= datetime.date(2020,2,7)\n",
    "stop= datetime.date(2020,2,13)\n",
    "diff=stop-start\n",
    "days_between=diff.days\n",
    "random_number=random.randrange(days_between)\n",
    "random_date=start+datetime.timedelta(days= random_number)\n",
    "\n",
    "print(random_date)\n",
    "\n",
    "# start_dt = datetime.date(2019, 2, 1)\n",
    "# end_dt = datetime.date(2019, 3, 1)\n",
    "# time_between_dates = end_dt - start_dt\n",
    "# days_between_dates = time_between_dates.days\n",
    "# random_number_of_days = random.randrange(days_between_dates)\n",
    "# random_date = start_dt + datetime.timedelta(days=random_number_of_days)\n",
    "# print(random_date)"
   ]
  },
  {
   "cell_type": "code",
   "execution_count": 12,
   "metadata": {},
   "outputs": [
    {
     "data": {
      "text/plain": [
       "datetime.datetime(2023, 1, 19, 22, 33, 30, 560994)"
      ]
     },
     "execution_count": 12,
     "metadata": {},
     "output_type": "execute_result"
    }
   ],
   "source": [
    "from datetime import datetime,timedelta\n",
    "today=datetime.now()\n",
    "future_dates=today+timedelta(days=366)\n",
    "future_dates"
   ]
  },
  {
   "cell_type": "code",
   "execution_count": 17,
   "metadata": {},
   "outputs": [
    {
     "name": "stdout",
     "output_type": "stream",
     "text": [
      "[6, 7, 9, 5, 12, 5]\n"
     ]
    }
   ],
   "source": [
    "#Write a Python program to shuffle the elements of a given list\n",
    "lis=[12,5,6,5,7,9]\n",
    "res=random.shuffle(lis)\n",
    "print(lis)"
   ]
  },
  {
   "cell_type": "code",
   "execution_count": 18,
   "metadata": {},
   "outputs": [
    {
     "name": "stdout",
     "output_type": "stream",
     "text": [
      "0.7504341030735995\n"
     ]
    }
   ],
   "source": [
    "# Write a Python program to generate a float between 0 and 1, \n",
    "#inclusive and generate a random float within a specific range\n",
    "print(random.uniform(0,1))"
   ]
  },
  {
   "cell_type": "code",
   "execution_count": null,
   "metadata": {},
   "outputs": [],
   "source": []
  }
 ],
 "metadata": {
  "kernelspec": {
   "display_name": "Python 3",
   "language": "python",
   "name": "python3"
  },
  "language_info": {
   "codemirror_mode": {
    "name": "ipython",
    "version": 3
   },
   "file_extension": ".py",
   "mimetype": "text/x-python",
   "name": "python",
   "nbconvert_exporter": "python",
   "pygments_lexer": "ipython3",
   "version": "3.7.6"
  }
 },
 "nbformat": 4,
 "nbformat_minor": 4
}
